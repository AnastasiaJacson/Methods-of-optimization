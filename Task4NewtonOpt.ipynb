{
 "cells": [
  {
   "cell_type": "code",
   "execution_count": 150,
   "metadata": {},
   "outputs": [],
   "source": [
    "import numpy as np\n",
    "from scipy.optimize import minimize_scalar\n",
    "import random\n",
    "import scipy.optimize"
   ]
  },
  {
   "cell_type": "code",
   "execution_count": 151,
   "metadata": {},
   "outputs": [],
   "source": [
    "def rosenbrock(x):\n",
    "    \n",
    "    global calls\n",
    "    calls += 1\n",
    "    \n",
    "    n = len(x)\n",
    "    res = 0\n",
    "    for i in range(n - 1):\n",
    "        res += 100.0 * (x[i + 1] - x[i]**2)**2 + (1 - x[i])**2\n",
    "    return res"
   ]
  },
  {
   "cell_type": "code",
   "execution_count": 152,
   "metadata": {},
   "outputs": [],
   "source": [
    "def random_between(l, r):\n",
    "    return l + random.random() * (r - l)"
   ]
  },
  {
   "cell_type": "code",
   "execution_count": 153,
   "metadata": {},
   "outputs": [],
   "source": [
    "\n",
    "calls = 0\n",
    "\n",
    "\n",
    "epsilon = 1e-6\n",
    "delta = 1e-5\n",
    "n_sum = int (input(\"enter N:\"))\n",
    "\n",
    "#x0 = np.array([float(val) for val in input(\"Введіть початкову точку x0 через пробіл: \").split()])\n",
    "#x0 = np.array([0.0, 0.0, 0.0, 0.0, 0.0, 0.0, -1.0])\n",
    "x0 = np.full(n_sum, 0)\n",
    "max_iterations = int(input(\"Введіть максимальну кількість ітерацій (K < 1000): \"))"
   ]
  },
  {
   "cell_type": "code",
   "execution_count": 154,
   "metadata": {},
   "outputs": [],
   "source": [
    "def rosenbrock_gradient(x):\n",
    "    \n",
    "    global calls\n",
    "    calls += len(x)\n",
    "    \n",
    "    if len(x) < 2:\n",
    "        raise ValueError(\"Для обчислення градієнта x повинен мати розмірність принаймні 2.\")\n",
    "    \n",
    "    n = len(x)\n",
    "    gradient = np.zeros_like(x)\n",
    "    gradient[0] = -400 * x[0] * (x[1] - x[0]**2) - 2 * (1 - x[0])\n",
    "    gradient[1:-1] = 200 * (x[1:-1] - x[:-2]**2) - 400 * x[1:-1] * (x[2:] - x[1:-1]**2) - 2 * (1 - x[1:-1])\n",
    "    gradient[-1] = 200 * (x[-1] - x[-2]**2)\n",
    "    return gradient"
   ]
  },
  {
   "cell_type": "code",
   "execution_count": 155,
   "metadata": {},
   "outputs": [],
   "source": [
    "# def rosenbrock_hessian(x):\n",
    "    \n",
    "#     n = len(x)\n",
    "#     hessian = np.zeros((n, n))\n",
    "#     hessian[0, 0] = 1200 * x[0]**2 - 400 * x[1] + 2\n",
    "#     hessian[0, 1] = -400 * x[0]\n",
    "#     hessian[1, 0] = -400 * x[0]\n",
    "    \n",
    "#     for i in range(1, n - 1):\n",
    "#         hessian[i, i] = 200\n",
    "#         hessian[i, i + 1] = -400 * x[i]\n",
    "#         hessian[i + 1, i] = -400 * x[i]\n",
    "    \n",
    "#     hessian[-1, -1] = 200\n",
    "#     return hessian\n",
    "\n",
    "def rosen_hess(x):\n",
    "    \n",
    "    global calls\n",
    "    calls += n_sum * (n_sum + 1) / 2\n",
    "    \n",
    "    x = np.asarray(x)\n",
    "    H = np.diag(-400*x[:-1],1) - np.diag(400*x[:-1],-1)\n",
    "    diagonal = np.zeros_like(x)\n",
    "    diagonal[0] = 1200*x[0]**2-400*x[1]+2\n",
    "    diagonal[-1] = 200\n",
    "    diagonal[1:-1] = 202 + 1200*x[1:-1]**2 - 400*x[2:]\n",
    "    H = H + np.diag(diagonal)\n",
    "    return H\n"
   ]
  },
  {
   "cell_type": "code",
   "execution_count": 156,
   "metadata": {},
   "outputs": [],
   "source": [
    "def golden_section_search(f, a, b, tol=1e-5):\n",
    "    gr = (np.sqrt(5) + 1) / 2 - 1\n",
    "    c = b - gr * (b - a)\n",
    "    d = a + gr * (b - a)\n",
    "\n",
    "    while abs(c - d) > tol:\n",
    "        if f(c) < f(d):\n",
    "            b = d\n",
    "        else:\n",
    "            a = c\n",
    "\n",
    "        c = b - gr * (b - a)\n",
    "        d = a + gr * (b - a)\n",
    "\n",
    "    return (b + a) / 2"
   ]
  },
  {
   "cell_type": "code",
   "execution_count": 157,
   "metadata": {},
   "outputs": [],
   "source": [
    "def newton_method(n, epsilon, delta, K):\n",
    "    \n",
    "    #x0 = np.random.uniform(0, 0.9, n)\n",
    "    x = x0\n",
    "    k = 0\n",
    "\n",
    "    while k < K:\n",
    "        gradient = rosenbrock_gradient(x)\n",
    "        hessian = rosen_hess(x)\n",
    "        p = -np.linalg.solve(hessian, gradient)\n",
    "\n",
    "        if np.linalg.norm(p) < epsilon:\n",
    "            break\n",
    "\n",
    "        objective_function = lambda alpha: rosenbrock(x + alpha * p)\n",
    "        alpha_k = golden_section_search(objective_function, 0, 1, tol=delta)\n",
    "\n",
    "        x = x + alpha_k * p\n",
    "        k += 1\n",
    "\n",
    "    return x, rosenbrock(x), np.linalg.norm(p), k"
   ]
  },
  {
   "cell_type": "code",
   "execution_count": 158,
   "metadata": {},
   "outputs": [
    {
     "name": "stdout",
     "output_type": "stream",
     "text": [
      "Останнє значення x_{k+1}:  [1. 1. 1. 1. 1. 1. 1. 1. 1. 1. 1. 1. 1. 1. 1. 1. 1. 1. 1. 1. 1. 1. 1. 1.\n",
      " 1. 1. 1. 1. 1. 1. 1. 1. 1. 1. 1. 1. 1. 1. 1. 1. 1. 1. 1. 1. 1. 1. 1. 1.\n",
      " 1. 1. 1. 1. 1. 1. 1. 1. 1. 1. 1. 1. 1. 1. 1. 1. 1. 1. 1. 1. 1. 1. 1. 1.\n",
      " 1. 1. 1. 1. 1. 1. 1. 1. 1. 1. 1. 1. 1. 1. 1. 1. 1. 1. 1. 1. 1. 1. 1. 1.\n",
      " 1. 1. 1. 1.]\n",
      "Значення f(x_{k+1}):  4.5297169353072806e-21\n",
      "Норма вектора p_k:  1.1281722752795579e-10\n",
      "Кількість ітерацій:  157\n",
      "Кількість звернень до градієнта та гессіана:  820295.0\n"
     ]
    }
   ],
   "source": [
    "result = newton_method(n_sum, epsilon, delta, max_iterations)\n",
    "\n",
    "print(\"Останнє значення x_{k+1}: \", result[0])\n",
    "print(\"Значення f(x_{k+1}): \", result[1])\n",
    "print(\"Норма вектора p_k: \", result[2])\n",
    "print(\"Кількість ітерацій: \", result[3])\n",
    "print(\"Кількість звернень до градієнта та гессіана: \", calls)"
   ]
  },
  {
   "cell_type": "code",
   "execution_count": null,
   "metadata": {},
   "outputs": [],
   "source": []
  }
 ],
 "metadata": {
  "kernelspec": {
   "display_name": "Python 3",
   "language": "python",
   "name": "python3"
  },
  "language_info": {
   "codemirror_mode": {
    "name": "ipython",
    "version": 3
   },
   "file_extension": ".py",
   "mimetype": "text/x-python",
   "name": "python",
   "nbconvert_exporter": "python",
   "pygments_lexer": "ipython3",
   "version": "3.11.2"
  }
 },
 "nbformat": 4,
 "nbformat_minor": 2
}
