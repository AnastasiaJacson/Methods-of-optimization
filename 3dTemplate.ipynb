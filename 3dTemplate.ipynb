{
 "cells": [
  {
   "cell_type": "code",
   "execution_count": 139,
   "metadata": {},
   "outputs": [],
   "source": [
    "import numpy as np\n",
    "from scipy.optimize import minimize_scalar\n",
    "import random"
   ]
  },
  {
   "cell_type": "code",
   "execution_count": 140,
   "metadata": {},
   "outputs": [],
   "source": [
    "def rosenbrock(x):\n",
    "    n = len(x)\n",
    "    res = 0\n",
    "    for i in range(n - 1):\n",
    "        res += 100.0 * (x[i + 1] - x[i]**2)**2 + (1 - x[i])**2\n",
    "    return res"
   ]
  },
  {
   "cell_type": "code",
   "execution_count": 141,
   "metadata": {},
   "outputs": [],
   "source": [
    "def random_between(l, r):\n",
    "    return l + random.random() * (r - l)"
   ]
  },
  {
   "cell_type": "code",
   "execution_count": 142,
   "metadata": {},
   "outputs": [],
   "source": [
    "epsilon = 1e-6\n",
    "delta = 1e-5\n",
    "n_sum = int (input(\"enter N:\"))\n",
    "\n",
    "max_iterations = int(input(\"Введіть максимальну кількість ітерацій (K < 1000): \"))\n",
    "#x0 = np.array([float(coord) for coord in input(\"Введіть початкову точку x0 через пробіл: \").split()])\n",
    "#x0 = np.array([1.0, -1.2, 2.0, 0.0, 1.9, 2.1, 0.2])"
   ]
  },
  {
   "cell_type": "code",
   "execution_count": 143,
   "metadata": {},
   "outputs": [],
   "source": [
    "def rosenbrock_gradient(x):\n",
    "    if len(x) < 2:\n",
    "        raise ValueError(\"Для обчислення градієнта x повинен мати розмірність принаймні 2.\")\n",
    "    \n",
    "    n = len(x)\n",
    "    gradient = np.zeros_like(x)\n",
    "    gradient[0] = -400 * x[0] * (x[1] - x[0]**2) - 2 * (1 - x[0])\n",
    "    gradient[1:-1] = 200 * (x[1:-1] - x[:-2]**2) - 400 * x[1:-1] * (x[2:] - x[1:-1]**2) - 2 * (1 - x[1:-1])\n",
    "    #визначає значення елементів градієнта функції Розенброка для всіх координат, крім першої та останньої.\n",
    "    gradient[-1] = 200 * (x[-1] - x[-2]**2)\n",
    "    return gradient"
   ]
  },
  {
   "cell_type": "code",
   "execution_count": 144,
   "metadata": {},
   "outputs": [],
   "source": [
    "def golden_section_search(f, a, b, tol=1e-5):\n",
    "    ratio = (np.sqrt(5) - 1) / 2\n",
    "    x1 = b - ratio * (b - a)\n",
    "    x2 = a + ratio * (b - a)\n",
    "\n",
    "    while b - a > tol:\n",
    "        if f(x1) < f(x2):\n",
    "            b = x2\n",
    "        else:\n",
    "            a = x1\n",
    "\n",
    "        x1 = b - ratio * (b - a)\n",
    "        x2 = a + ratio * (b - a)\n",
    "\n",
    "    return (a + b) / 2"
   ]
  },
  {
   "cell_type": "code",
   "execution_count": 145,
   "metadata": {},
   "outputs": [],
   "source": [
    "def steepest_descent(rosenbrock_func, rosenbrock_gradient, n_sum, epsilon, delta, max_iterations):\n",
    "    x0 = np.random.rand(n_sum)  \n",
    "    x = x0\n",
    "    k = 0\n",
    "\n",
    "    while True:\n",
    "        gradient = -rosenbrock_gradient(x)\n",
    "\n",
    "        if np.linalg.norm(gradient) < epsilon or k >= max_iterations:\n",
    "            break\n",
    "\n",
    "        alpha = golden_section_search(lambda a: rosenbrock(x + a * gradient), 0, 1, tol=delta)\n",
    "        x = x + alpha * gradient\n",
    "        print(alpha)\n",
    "        k += 1\n",
    "\n",
    "    return x, rosenbrock(x), np.linalg.norm(gradient), k\n",
    "\n"
   ]
  },
  {
   "cell_type": "code",
   "execution_count": 146,
   "metadata": {},
   "outputs": [
    {
     "name": "stdout",
     "output_type": "stream",
     "text": [
      "\n",
      "Результат:\n",
      "x_k+1 = [0.99999991 0.99999983 0.99999965 0.9999993  0.9999986  0.9999972\n",
      " 0.99999439]\n",
      "f(x_k+1) = 1.044798697493122e-11\n",
      "||p_k|| = 4.592328636001937e-06\n",
      "Кількість ітерацій: 20000\n",
      "\n"
     ]
    }
   ],
   "source": [
    "result = steepest_descent(rosenbrock, rosenbrock_gradient, n_sum, epsilon, delta, max_iterations)\n",
    "\n",
    "print(\"\\nРезультат:\")\n",
    "print(\"x_k+1 =\", result[0])\n",
    "print(\"f(x_k+1) =\", result[1])\n",
    "print(\"||p_k|| =\", result[2])\n",
    "print(\"Кількість ітерацій:\", result[3])\n",
    "print()"
   ]
  }
 ],
 "metadata": {
  "kernelspec": {
   "display_name": "Python 3",
   "language": "python",
   "name": "python3"
  },
  "language_info": {
   "codemirror_mode": {
    "name": "ipython",
    "version": 3
   },
   "file_extension": ".py",
   "mimetype": "text/x-python",
   "name": "python",
   "nbconvert_exporter": "python",
   "pygments_lexer": "ipython3",
   "version": "3.11.2"
  },
  "orig_nbformat": 4
 },
 "nbformat": 4,
 "nbformat_minor": 2
}
